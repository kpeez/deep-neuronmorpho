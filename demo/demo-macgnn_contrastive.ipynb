{
 "cells": [
  {
   "attachments": {},
   "cell_type": "markdown",
   "metadata": {},
   "source": [
    "# Training the MACGNN model"
   ]
  },
  {
   "attachments": {},
   "cell_type": "markdown",
   "metadata": {},
   "source": [
    "## Manual appproach"
   ]
  },
  {
   "cell_type": "code",
   "execution_count": null,
   "metadata": {},
   "outputs": [],
   "source": [
    "import torch\n",
    "from deep_neuronmorpho.utils import Config\n",
    "from deep_neuronmorpho.models import MACGNN\n",
    "from deep_neuronmorpho.engine import ContrastiveTrainer, setup_dataloaders, setup_seed"
   ]
  },
  {
   "cell_type": "code",
   "execution_count": null,
   "metadata": {},
   "outputs": [],
   "source": [
    "device = \"cuda\" if torch.cuda.is_available() else \"cpu\"\n",
    "# load model configuration\n",
    "config_file = \"../config/macgnn_demo.yml\"\n",
    "cfg = Config.from_yaml(config_file=config_file)\n",
    "# set seed\n",
    "setup_seed(cfg.training.random_state)\n",
    "# set up dataloaders for contrastive training\n",
    "dataloaders = setup_dataloaders(cfg, datasets=[\"contra_train\", \"eval_train\"])\n",
    "macgnn = MACGNN(cfg.model)\n",
    "# create model and trainer\n",
    "trainer = ContrastiveTrainer(\n",
    "    model=macgnn,\n",
    "    config=cfg,\n",
    "    dataloaders=dataloaders,\n",
    "    device=device,\n",
    ")"
   ]
  },
  {
   "cell_type": "code",
   "execution_count": null,
   "metadata": {},
   "outputs": [],
   "source": [
    "# # start training\n",
    "# trainer.fit()"
   ]
  },
  {
   "cell_type": "code",
   "execution_count": null,
   "metadata": {},
   "outputs": [],
   "source": []
  },
  {
   "cell_type": "markdown",
   "metadata": {},
   "source": [
    "### train from checkpoint\n",
    "```python\n",
    "expt = \"macgnn_demo-DATETIME\" # replace DATETIME with the timestamp from the experiment\n",
    "epoch = 3 # replace 3 with the epoch number to start from\n",
    "```"
   ]
  },
  {
   "cell_type": "code",
   "execution_count": null,
   "metadata": {},
   "outputs": [],
   "source": [
    "# # train from checkpoint\n",
    "# expt = \"macgnn_demo-2023_08_27_15h_51m\"\n",
    "# epoch = 2 # replace 3 with the epoch number to start from\n",
    "# ckpt_name = f\"{expt}_checkpoint-epoch_{epoch:03d}.pt\"\n",
    "# ckpt_dir = Path(f\"{conf.dirs.expt_results}/{expt}/ckpts\")\n",
    "# ckpt_file = ckpt_dir / ckpt_name\n",
    "\n",
    "# trainer.fit(ckpt_file=ckpt_file)"
   ]
  },
  {
   "cell_type": "markdown",
   "metadata": {},
   "source": [
    "## Using train.py script\n",
    "\n",
    "We can do the same as above, but using the `train_model` function from the `train.py` module.  \n",
    "This is a convenient wrapper over the above code, which allows us to train a model with a single function call."
   ]
  },
  {
   "cell_type": "code",
   "execution_count": null,
   "metadata": {},
   "outputs": [],
   "source": [
    "# config_file = \"../config/cfg-macgnn_demo.yml\"\n",
    "# # train from scratch\n",
    "# train_model(config_file)"
   ]
  },
  {
   "cell_type": "markdown",
   "metadata": {},
   "source": [
    "### train from checkpoint\n",
    "```python\n",
    "expt = \"macgnn_demo-DATETIME\" # replace DATETIME with the timestamp from the experiment\n",
    "epoch = 3 # replace 3 with the epoch number to start from\n",
    "```"
   ]
  },
  {
   "cell_type": "code",
   "execution_count": null,
   "metadata": {},
   "outputs": [],
   "source": [
    "# from deep_neuronmorpho.train_contrastive import train_model\n",
    "\n",
    "# train from checkpoint\n",
    "# expt = \"macgnn_demo-DATETIME\"  # replace DATETIME with the timestamp from the experiment\n",
    "# epoch = 3  # replace 3 with the epoch number to start from\n",
    "# ckpt_name = f\"{expt}_checkpoint-epoch_{epoch:03d}.pt\"\n",
    "\n",
    "# conf = Config.from_yaml(config_file)  # only needed to get the ckpts_dir\n",
    "# ckpt_dir = Path(f\"{conf.dirs.expt_results}/{expt}/ckpts\")\n",
    "# ckpt_file = ckpt_dir / ckpt_name\n",
    "\n",
    "# train_model(config_file, checkpoint=ckpt_file)"
   ]
  }
 ],
 "metadata": {
  "kernelspec": {
   "display_name": ".venv",
   "language": "python",
   "name": "python3"
  },
  "language_info": {
   "codemirror_mode": {
    "name": "ipython",
    "version": 3
   },
   "file_extension": ".py",
   "mimetype": "text/x-python",
   "name": "python",
   "nbconvert_exporter": "python",
   "pygments_lexer": "ipython3",
   "version": "3.11.8"
  },
  "orig_nbformat": 4
 },
 "nbformat": 4,
 "nbformat_minor": 2
}
