{
 "cells": [
  {
   "attachments": {},
   "cell_type": "markdown",
   "metadata": {},
   "source": [
    "# Training the MACGNN model"
   ]
  },
  {
   "cell_type": "code",
   "execution_count": null,
   "metadata": {},
   "outputs": [],
   "source": [
    "from deep_neuronmorpho import Config\n",
    "\n",
    "config_file = \"../config/demo-macgnnv2.yaml\"\n",
    "conf = Config.from_yaml(config_file=config_file)\n",
    "\n",
    "# train_model(config_file)"
   ]
  },
  {
   "cell_type": "markdown",
   "metadata": {},
   "source": [
    "### train from checkpoint\n",
    "```python\n",
    "expt = \"macgnn_demo-DATETIME\" # replace DATETIME with the timestamp from the experiment\n",
    "epoch = 3 # replace 3 with the epoch number to start from\n",
    "```"
   ]
  },
  {
   "cell_type": "code",
   "execution_count": 2,
   "metadata": {},
   "outputs": [],
   "source": [
    "from deep_neuronmorpho import Config\n",
    "\n",
    "config_file = \"../config/demo-macgnnv2.yaml\"\n",
    "conf = Config.from_yaml(config_file=config_file)\n",
    "checkpoint = \"path/to/checkpoint.ckpt\"\n",
    "\n",
    "# train_model(config_file, checkpoint=checkpoint)"
   ]
  }
 ],
 "metadata": {
  "kernelspec": {
   "display_name": ".venv",
   "language": "python",
   "name": "python3"
  },
  "language_info": {
   "codemirror_mode": {
    "name": "ipython",
    "version": 3
   },
   "file_extension": ".py",
   "mimetype": "text/x-python",
   "name": "python",
   "nbconvert_exporter": "python",
   "pygments_lexer": "ipython3",
   "version": "3.12.11"
  },
  "orig_nbformat": 4
 },
 "nbformat": 4,
 "nbformat_minor": 2
}
