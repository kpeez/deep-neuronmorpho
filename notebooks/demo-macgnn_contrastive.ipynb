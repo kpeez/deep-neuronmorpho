{
 "cells": [
  {
   "attachments": {},
   "cell_type": "markdown",
   "metadata": {},
   "source": [
    "# Training the MACGNN model"
   ]
  },
  {
   "attachments": {},
   "cell_type": "markdown",
   "metadata": {},
   "source": [
    "## Manual appproach"
   ]
  },
  {
   "cell_type": "code",
   "execution_count": 1,
   "metadata": {},
   "outputs": [],
   "source": [
    "import torch\n",
    "from deep_neuronmorpho.utils import Config\n",
    "from deep_neuronmorpho.models import MACGNN\n",
    "from deep_neuronmorpho.engine import ContrastiveTrainer, setup_dataloaders, setup_seed\n",
    "from deep_neuronmorpho.train_contrastive import train_model"
   ]
  },
  {
   "cell_type": "code",
   "execution_count": 2,
   "metadata": {},
   "outputs": [],
   "source": [
    "device = \"cuda\" if torch.cuda.is_available() else \"cpu\"\n",
    "# load model configuration\n",
    "config_file = \"../config/cfg-macgnn_demo.yml\"\n",
    "conf = Config.from_yaml(config_file=config_file)\n",
    "# set seed\n",
    "setup_seed(conf.training.random_seed)\n",
    "# set up dataloaders for contrastive training\n",
    "dataloaders = setup_dataloaders(conf, datasets=[\"contra_train\", \"eval_train\", \"eval_test\"])\n",
    "macgnn = MACGNN(conf.model)\n",
    "# create model and trainer\n",
    "trainer = ContrastiveTrainer(\n",
    "    model=macgnn,\n",
    "    config=conf,\n",
    "    dataloaders=dataloaders,\n",
    "    device=device,\n",
    ")"
   ]
  },
  {
   "cell_type": "code",
   "execution_count": 3,
   "metadata": {},
   "outputs": [
    {
     "data": {
      "text/plain": [
       "False"
      ]
     },
     "execution_count": 3,
     "metadata": {},
     "output_type": "execute_result"
    }
   ],
   "source": [
    "conf.training.dual_aug_loss"
   ]
  },
  {
   "cell_type": "code",
   "execution_count": 4,
   "metadata": {},
   "outputs": [
    {
     "name": "stderr",
     "output_type": "stream",
     "text": [
      "Training macgnn_demo-pink_owl on 'cpu' for 5 epochs with random_seed 42.Loss uses dual augmentation: False.\n",
      "Processing batch:[7/7]100%|██████████ [00:16<00:00]\n",
      "Epoch 1/5: Train Loss: 5.0748\n",
      "Epoch 1/5: Benchmark Test accuracy: 0.5977\n",
      "Saving checkpoint: ../datasets/demo_gnn_data/expt_results/2023_11_16_12h_27m-macgnn_demo-pink_owl/ckpts/macgnn_demo-pink_owl-epoch_0001.pt\n",
      "Processing batch:[7/7]100%|██████████ [00:14<00:00]\n",
      "Epoch 2/5: Train Loss: 4.5266\n",
      "Epoch 2/5: Benchmark Test accuracy: 0.5865\n",
      "Saving checkpoint: ../datasets/demo_gnn_data/expt_results/2023_11_16_12h_27m-macgnn_demo-pink_owl/ckpts/macgnn_demo-pink_owl-epoch_0002.pt\n",
      "Processing batch:[7/7]100%|██████████ [00:14<00:00]\n",
      "Epoch 3/5: Train Loss: 4.2506\n",
      "Epoch 3/5: Benchmark Test accuracy: 0.6015\n",
      "Saving checkpoint: ../datasets/demo_gnn_data/expt_results/2023_11_16_12h_27m-macgnn_demo-pink_owl/ckpts/macgnn_demo-pink_owl-epoch_0003.pt\n",
      "Processing batch:[7/7]100%|██████████ [00:14<00:00]\n",
      "Epoch 4/5: Train Loss: 4.1062\n"
     ]
    }
   ],
   "source": [
    "# start training\n",
    "trainer.fit()"
   ]
  },
  {
   "cell_type": "code",
   "execution_count": null,
   "metadata": {},
   "outputs": [],
   "source": []
  },
  {
   "cell_type": "code",
   "execution_count": null,
   "metadata": {},
   "outputs": [],
   "source": []
  },
  {
   "cell_type": "code",
   "execution_count": null,
   "metadata": {},
   "outputs": [],
   "source": []
  },
  {
   "cell_type": "markdown",
   "metadata": {},
   "source": [
    "### train from checkpoint\n",
    "```python\n",
    "expt = \"macgnn_demo-DATETIME\" # replace DATETIME with the timestamp from the experiment\n",
    "epoch = 3 # replace 3 with the epoch number to start from\n",
    "```"
   ]
  },
  {
   "cell_type": "code",
   "execution_count": null,
   "metadata": {},
   "outputs": [],
   "source": [
    "# # train from checkpoint\n",
    "# expt = \"macgnn_demo-2023_08_27_15h_51m\"\n",
    "# epoch = 2 # replace 3 with the epoch number to start from\n",
    "# ckpt_name = f\"{expt}_checkpoint-epoch_{epoch:03d}.pt\"\n",
    "# ckpt_dir = Path(f\"{conf.dirs.expt_results}/{expt}/ckpts\")\n",
    "# ckpt_file = ckpt_dir / ckpt_name\n",
    "\n",
    "# trainer.fit(ckpt_file=ckpt_file)"
   ]
  },
  {
   "cell_type": "markdown",
   "metadata": {},
   "source": [
    "## Using train.py script\n",
    "\n",
    "We can do the same as above, but using the `train_model` function from the `train.py` module.  \n",
    "This is a convenient wrapper over the above code, which allows us to train a model with a single function call."
   ]
  },
  {
   "cell_type": "code",
   "execution_count": null,
   "metadata": {},
   "outputs": [],
   "source": [
    "# config_file = \"../config/cfg-macgnn_demo.yml\"\n",
    "# # train from scratch\n",
    "# train_model(config_file)"
   ]
  },
  {
   "cell_type": "markdown",
   "metadata": {},
   "source": [
    "### train from checkpoint\n",
    "```python\n",
    "expt = \"macgnn_demo-DATETIME\" # replace DATETIME with the timestamp from the experiment\n",
    "epoch = 3 # replace 3 with the epoch number to start from\n",
    "```"
   ]
  },
  {
   "cell_type": "code",
   "execution_count": null,
   "metadata": {},
   "outputs": [],
   "source": [
    "# train from checkpoint\n",
    "# expt = \"macgnn_demo-DATETIME\"  # replace DATETIME with the timestamp from the experiment\n",
    "# epoch = 3  # replace 3 with the epoch number to start from\n",
    "# ckpt_name = f\"{expt}_checkpoint-epoch_{epoch:03d}.pt\"\n",
    "\n",
    "# conf = Config.from_yaml(config_file)  # only needed to get the ckpts_dir\n",
    "# ckpt_dir = Path(f\"{conf.dirs.expt_results}/{expt}/ckpts\")\n",
    "# ckpt_file = ckpt_dir / ckpt_name\n",
    "\n",
    "# train_model(config_file, checkpoint=ckpt_file)"
   ]
  }
 ],
 "metadata": {
  "kernelspec": {
   "display_name": ".venv",
   "language": "python",
   "name": "python3"
  },
  "language_info": {
   "codemirror_mode": {
    "name": "ipython",
    "version": 3
   },
   "file_extension": ".py",
   "mimetype": "text/x-python",
   "name": "python",
   "nbconvert_exporter": "python",
   "pygments_lexer": "ipython3",
   "version": "3.11.6"
  },
  "orig_nbformat": 4
 },
 "nbformat": 4,
 "nbformat_minor": 2
}
