{
 "cells": [
  {
   "attachments": {},
   "cell_type": "markdown",
   "metadata": {},
   "source": [
    "# Training the MACGNN model"
   ]
  },
  {
   "attachments": {},
   "cell_type": "markdown",
   "metadata": {},
   "source": [
    "## Manual appproach"
   ]
  },
  {
   "cell_type": "code",
   "execution_count": 11,
   "metadata": {},
   "outputs": [],
   "source": [
    "from pathlib import Path\n",
    "import torch\n",
    "from deep_neuronmorpho.utils import ModelConfig\n",
    "from deep_neuronmorpho.models import MACGNN\n",
    "from deep_neuronmorpho.engine import ContrastiveTrainer, setup_dataloaders"
   ]
  },
  {
   "cell_type": "code",
   "execution_count": 12,
   "metadata": {},
   "outputs": [],
   "source": [
    "device = \"cuda\" if torch.cuda.is_available() else \"cpu\"\n",
    "\n",
    "# load model configuration\n",
    "config_file = \"../config/cfg-macgnn_demo.yml\"\n",
    "conf = ModelConfig(config_file)\n",
    "# set up dataloaders for contrastive training\n",
    "dataloaders = setup_dataloaders(conf, datasets=[\"contra_train\", \"eval_train\", \"eval_test\"])\n",
    "# create model and trainer\n",
    "macgnn = MACGNN(conf.model)\n",
    "trainer = ContrastiveTrainer(\n",
    "    model=macgnn,\n",
    "    config=conf,\n",
    "    dataloaders=dataloaders,\n",
    "    device=device,\n",
    ")\n",
    "\n",
    "# start training\n",
    "# trainer.fit()\n",
    "\n",
    "# # train from checkpoint\n",
    "# expt = \"macgnn_demo-DATETIME\" # replace DATETIME with the timestamp from the experiment\n",
    "# epoch = 3 # replace 3 with the epoch number to start from\n",
    "# ckpt_name = f\"{expt}_checkpoint-epoch_{epoch:03d}.pt\"\n",
    "# ckpt_dir = Path(f\"{conf.dirs.expt_results}/{expt}/ckpts\")\n",
    "# ckpt_file = ckpt_dir / ckpt_name\n",
    "\n",
    "# trainer.fit(ckpt_file=ckpt_file)\n"
   ]
  },
  {
   "cell_type": "markdown",
   "metadata": {},
   "source": [
    "## Using train.py script\n",
    "\n",
    "We can do the same as above, but using the `train_model` function from the `train.py` module.  \n",
    "This is a convenient wrapper over the above code, which allows us to train a model with a single function call."
   ]
  },
  {
   "cell_type": "code",
   "execution_count": 13,
   "metadata": {},
   "outputs": [
    {
     "ename": "FileNotFoundError",
     "evalue": "Checkpoint file ../datasets/demo_gnn_data/expt_results/macgnn_demo-DATETIME/ckpts/macgnn_demo-DATETIME_checkpoint-epoch_003.pt not found",
     "output_type": "error",
     "traceback": [
      "\u001b[0;31m---------------------------------------------------------------------------\u001b[0m",
      "\u001b[0;31mFileNotFoundError\u001b[0m                         Traceback (most recent call last)",
      "Cell \u001b[0;32mIn[13], line 17\u001b[0m\n\u001b[1;32m     14\u001b[0m ckpt_dir \u001b[39m=\u001b[39m Path(\u001b[39mf\u001b[39m\u001b[39m\"\u001b[39m\u001b[39m{\u001b[39;00mconf\u001b[39m.\u001b[39mdirs\u001b[39m.\u001b[39mexpt_results\u001b[39m}\u001b[39;00m\u001b[39m/\u001b[39m\u001b[39m{\u001b[39;00mexpt\u001b[39m}\u001b[39;00m\u001b[39m/ckpts\u001b[39m\u001b[39m\"\u001b[39m)\n\u001b[1;32m     15\u001b[0m ckpt_file \u001b[39m=\u001b[39m ckpt_dir \u001b[39m/\u001b[39m ckpt_name\n\u001b[0;32m---> 17\u001b[0m train_model(config_file, checkpoint\u001b[39m=\u001b[39;49mckpt_file)\n",
      "File \u001b[0;32m~/repos/deep-neuronmorpho/deep_neuronmorpho/train.py:37\u001b[0m, in \u001b[0;36mtrain_model\u001b[0;34m(config_file, checkpoint, gpu)\u001b[0m\n\u001b[1;32m     30\u001b[0m trainer \u001b[39m=\u001b[39m ContrastiveTrainer(\n\u001b[1;32m     31\u001b[0m     model\u001b[39m=\u001b[39mmacgnn,\n\u001b[1;32m     32\u001b[0m     config\u001b[39m=\u001b[39mconf,\n\u001b[1;32m     33\u001b[0m     dataloaders\u001b[39m=\u001b[39mdataloaders,\n\u001b[1;32m     34\u001b[0m     device\u001b[39m=\u001b[39mdevice,\n\u001b[1;32m     35\u001b[0m )\n\u001b[1;32m     36\u001b[0m \u001b[39m# start training\u001b[39;00m\n\u001b[0;32m---> 37\u001b[0m trainer\u001b[39m.\u001b[39;49mfit(ckpt_file\u001b[39m=\u001b[39;49mcheckpoint)\n",
      "File \u001b[0;32m~/repos/deep-neuronmorpho/deep_neuronmorpho/engine/trainer.py:151\u001b[0m, in \u001b[0;36mContrastiveTrainer.fit\u001b[0;34m(self, epochs, ckpt_file)\u001b[0m\n\u001b[1;32m    139\u001b[0m \u001b[39m\u001b[39m\u001b[39m\"\"\"Train the model for a given number of epochs.\u001b[39;00m\n\u001b[1;32m    140\u001b[0m \n\u001b[1;32m    141\u001b[0m \u001b[39mIterate over the training and validation dataloaders for the given number of epochs,\u001b[39;00m\n\u001b[0;32m   (...)\u001b[0m\n\u001b[1;32m    148\u001b[0m \u001b[39m    If a checkpoint is provided, we resume training from that checkpoint. Defaults to None.\u001b[39;00m\n\u001b[1;32m    149\u001b[0m \u001b[39m\"\"\"\u001b[39;00m\n\u001b[1;32m    150\u001b[0m \u001b[39mif\u001b[39;00m ckpt_file \u001b[39mis\u001b[39;00m \u001b[39mnot\u001b[39;00m \u001b[39mNone\u001b[39;00m:\n\u001b[0;32m--> 151\u001b[0m     \u001b[39mself\u001b[39;49m\u001b[39m.\u001b[39;49mcheckpoint\u001b[39m.\u001b[39;49mload(ckpt_file)\n\u001b[1;32m    152\u001b[0m     \u001b[39mself\u001b[39m\u001b[39m.\u001b[39mlogger\u001b[39m.\u001b[39mmessage(\u001b[39mf\u001b[39m\u001b[39m\"\u001b[39m\u001b[39mResuming training from checkpoint: \u001b[39m\u001b[39m{\u001b[39;00mckpt_file\u001b[39m}\u001b[39;00m\u001b[39m\"\u001b[39m)\n\u001b[1;32m    153\u001b[0m     start_epoch \u001b[39m=\u001b[39m \u001b[39mself\u001b[39m\u001b[39m.\u001b[39mcheckpoint\u001b[39m.\u001b[39mepoch \u001b[39mif\u001b[39;00m \u001b[39mself\u001b[39m\u001b[39m.\u001b[39mcheckpoint\u001b[39m.\u001b[39mepoch \u001b[39mis\u001b[39;00m \u001b[39mnot\u001b[39;00m \u001b[39mNone\u001b[39;00m \u001b[39melse\u001b[39;00m \u001b[39m0\u001b[39m\n",
      "File \u001b[0;32m~/repos/deep-neuronmorpho/deep_neuronmorpho/engine/trainer_utils.py:162\u001b[0m, in \u001b[0;36mCheckpoint.load\u001b[0;34m(self, ckpt_file)\u001b[0m\n\u001b[1;32m    157\u001b[0m     \u001b[39mself\u001b[39m\u001b[39m.\u001b[39mlogger\u001b[39m.\u001b[39mmessage(\n\u001b[1;32m    158\u001b[0m         \u001b[39mf\u001b[39m\u001b[39m\"\u001b[39m\u001b[39mLoaded model at epoch=\u001b[39m\u001b[39m{\u001b[39;00mcheckpoint[\u001b[39m'\u001b[39m\u001b[39mepoch\u001b[39m\u001b[39m'\u001b[39m]\u001b[39m}\u001b[39;00m\u001b[39m with \u001b[39m\u001b[39m\"\u001b[39m\n\u001b[1;32m    159\u001b[0m         \u001b[39mf\u001b[39m\u001b[39m\"\u001b[39m\u001b[39mvalidation accuracy: \u001b[39m\u001b[39m{\u001b[39;00mcheckpoint[\u001b[39m'\u001b[39m\u001b[39meval_acc\u001b[39m\u001b[39m'\u001b[39m]\u001b[39m:\u001b[39;00m\u001b[39m.4f\u001b[39m\u001b[39m}\u001b[39;00m\u001b[39m\"\u001b[39m\n\u001b[1;32m    160\u001b[0m     )\n\u001b[1;32m    161\u001b[0m \u001b[39melse\u001b[39;00m:\n\u001b[0;32m--> 162\u001b[0m     \u001b[39mraise\u001b[39;00m \u001b[39mFileNotFoundError\u001b[39;00m(\u001b[39mf\u001b[39m\u001b[39m\"\u001b[39m\u001b[39mCheckpoint file \u001b[39m\u001b[39m{\u001b[39;00mckpt_file\u001b[39m}\u001b[39;00m\u001b[39m not found\u001b[39m\u001b[39m\"\u001b[39m)\n",
      "\u001b[0;31mFileNotFoundError\u001b[0m: Checkpoint file ../datasets/demo_gnn_data/expt_results/macgnn_demo-DATETIME/ckpts/macgnn_demo-DATETIME_checkpoint-epoch_003.pt not found"
     ]
    }
   ],
   "source": [
    "from pathlib import Path\n",
    "from deep_neuronmorpho.train import train_model\n",
    "\n",
    "config_file = \"../config/cfg-macgnn_demo.yml\"\n",
    "# train from scratch\n",
    "train_model(config_file)\n",
    "\n",
    "# train from checkpoint\n",
    "expt = \"macgnn_demo-DATETIME\"  # replace DATETIME with the timestamp from the experiment\n",
    "epoch = 3  # replace 3 with the epoch number to start from\n",
    "ckpt_name = f\"{expt}_checkpoint-epoch_{epoch:03d}.pt\"\n",
    "\n",
    "conf = ModelConfig(config_file)  # only needed to get the ckpts_dir\n",
    "ckpt_dir = Path(f\"{conf.dirs.expt_results}/{expt}/ckpts\")\n",
    "ckpt_file = ckpt_dir / ckpt_name\n",
    "\n",
    "train_model(config_file, checkpoint=ckpt_file)"
   ]
  },
  {
   "cell_type": "code",
   "execution_count": null,
   "metadata": {},
   "outputs": [],
   "source": []
  }
 ],
 "metadata": {
  "kernelspec": {
   "display_name": ".venv",
   "language": "python",
   "name": "python3"
  },
  "language_info": {
   "codemirror_mode": {
    "name": "ipython",
    "version": 3
   },
   "file_extension": ".py",
   "mimetype": "text/x-python",
   "name": "python",
   "nbconvert_exporter": "python",
   "pygments_lexer": "ipython3",
   "version": "3.10.12"
  },
  "orig_nbformat": 4
 },
 "nbformat": 4,
 "nbformat_minor": 2
}
